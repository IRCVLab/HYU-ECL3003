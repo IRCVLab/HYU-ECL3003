{
 "cells": [
  {
   "cell_type": "markdown",
   "id": "53c8a79f",
   "metadata": {},
   "source": [
    "## **1. Connection to Rover**"
   ]
  },
  {
   "cell_type": "code",
   "execution_count": null,
   "id": "bdc66ae7",
   "metadata": {},
   "outputs": [],
   "source": [
    "from base_ctrl import BaseController\n",
    "\n",
    "base = BaseController('/dev/ttyUSB0', 115200)"
   ]
  },
  {
   "cell_type": "markdown",
   "id": "13822222",
   "metadata": {},
   "source": [
    "## **2. Basic Chassis Control (Linear Control)**"
   ]
  },
  {
   "cell_type": "markdown",
   "id": "2c33f7dd",
   "metadata": {},
   "source": [
    "#### {\"T\":1,\"L\":LEFT_SPEED,\"R\":RIGHT_SPEED}\n",
    "(SPEED RANGE : -0.5 ~ 0.5) *- 0.5 represents 100% of the PWM of the motor, and 0.25 represents 50% of the PWM of the motor*"
   ]
  },
  {
   "cell_type": "markdown",
   "id": "31de0e84",
   "metadata": {},
   "source": [
    "To control rover, use **'base_json_ctrl'** method in BaseController class."
   ]
  },
  {
   "cell_type": "code",
   "execution_count": 13,
   "id": "d27502e5",
   "metadata": {},
   "outputs": [],
   "source": [
    "import time\n",
    "\n",
    "base.base_json_ctrl({\"T\":1,\"L\":0.2,\"R\":0.2})\n",
    "time.sleep(1)\n",
    "base.base_json_ctrl({\"T\":1,\"L\":0.0,\"R\":0.0})"
   ]
  },
  {
   "cell_type": "markdown",
   "id": "cc4c724d",
   "metadata": {},
   "source": [
    "You can also use **'send_command'** method to send command to rover directly."
   ]
  },
  {
   "cell_type": "code",
   "execution_count": 14,
   "id": "10362e15",
   "metadata": {},
   "outputs": [],
   "source": [
    "base.send_command({\"T\":1,\"L\":0.2,\"R\":0.2})\n",
    "time.sleep(1)\n",
    "base.send_command({\"T\":1,\"L\":0.0,\"R\":0.0})"
   ]
  },
  {
   "cell_type": "markdown",
   "id": "de21dd8f",
   "metadata": {},
   "source": [
    "## **3. Advanced Chassis Control (PWM Control / PID)**"
   ]
  },
  {
   "cell_type": "markdown",
   "id": "fb6dedcd",
   "metadata": {},
   "source": [
    "#### {\"T\":11,\"L\":LEFT_PWM,\"R\":RIGHT_PWM}\n",
    "(PWM RANGE : -255 ~ 255)"
   ]
  },
  {
   "cell_type": "code",
   "execution_count": 17,
   "id": "1b040042",
   "metadata": {},
   "outputs": [],
   "source": [
    "base.send_command({\"T\":11,\"L\":100,\"R\":100})\n",
    "time.sleep(1)\n",
    "base.send_command({\"T\":11,\"L\":0.0,\"R\":0.0})"
   ]
  },
  {
   "cell_type": "markdown",
   "id": "bf5bdf64",
   "metadata": {},
   "source": [
    "#### Setting Motor PID"
   ]
  },
  {
   "cell_type": "markdown",
   "id": "96543b5e",
   "metadata": {},
   "source": [
    "The three values of P, I and D correspond to proportional, integral and differential coefficients respectively, and the value of L is the interface reserved for Windup Limits, which is not available for the default PID controller used in UGV01 at present. You can set your own PID controller gain using this command."
   ]
  },
  {
   "cell_type": "code",
   "execution_count": 16,
   "id": "45f866b1",
   "metadata": {},
   "outputs": [],
   "source": [
    "base.send_command({\"T\":2,\"P\":200,\"I\":2500,\"D\":0,\"L\":255})"
   ]
  },
  {
   "cell_type": "markdown",
   "id": "2c78842e",
   "metadata": {},
   "source": [
    "## **4. OLED Screen Control**"
   ]
  },
  {
   "cell_type": "markdown",
   "id": "1185b102",
   "metadata": {},
   "source": [
    "#### {\"T\":3,\"lineNum\":0,\"Text\":\"putYourTextHere\"}"
   ]
  },
  {
   "cell_type": "markdown",
   "id": "3d480aad",
   "metadata": {},
   "source": [
    "#### Modifying the Display Content on the OLED Screen"
   ]
  },
  {
   "cell_type": "code",
   "execution_count": 18,
   "id": "f2cd7ab3",
   "metadata": {},
   "outputs": [],
   "source": [
    "base.send_command({\"T\":3,\"lineNum\":0,\"Text\":\"this is line0\"})\n",
    "base.send_command({\"T\":3,\"lineNum\":1,\"Text\":\"this is line1\"})\n",
    "base.send_command({\"T\":3,\"lineNum\":2,\"Text\":\"this is line2\"})\n",
    "base.send_command({\"T\":3,\"lineNum\":3,\"Text\":\"this is line3\"})"
   ]
  },
  {
   "cell_type": "markdown",
   "id": "ae67039d",
   "metadata": {},
   "source": [
    "#### Displaying Dynamic Information on OLED"
   ]
  },
  {
   "cell_type": "code",
   "execution_count": 19,
   "id": "50e01165",
   "metadata": {},
   "outputs": [
    {
     "ename": "KeyboardInterrupt",
     "evalue": "",
     "output_type": "error",
     "traceback": [
      "\u001b[0;31m---------------------------------------------------------------------------\u001b[0m",
      "\u001b[0;31mKeyboardInterrupt\u001b[0m                         Traceback (most recent call last)",
      "Cell \u001b[0;32mIn[19], line 8\u001b[0m\n\u001b[1;32m      6\u001b[0m current_time \u001b[38;5;241m=\u001b[39m datetime\u001b[38;5;241m.\u001b[39mnow()\u001b[38;5;241m.\u001b[39mstrftime(\u001b[38;5;124m\"\u001b[39m\u001b[38;5;124m%\u001b[39m\u001b[38;5;124mH:\u001b[39m\u001b[38;5;124m%\u001b[39m\u001b[38;5;124mM:\u001b[39m\u001b[38;5;124m%\u001b[39m\u001b[38;5;124mS\u001b[39m\u001b[38;5;124m\"\u001b[39m)\n\u001b[1;32m      7\u001b[0m base\u001b[38;5;241m.\u001b[39msend_command({\u001b[38;5;124m\"\u001b[39m\u001b[38;5;124mT\u001b[39m\u001b[38;5;124m\"\u001b[39m:\u001b[38;5;241m3\u001b[39m,\u001b[38;5;124m\"\u001b[39m\u001b[38;5;124mlineNum\u001b[39m\u001b[38;5;124m\"\u001b[39m:\u001b[38;5;241m0\u001b[39m,\u001b[38;5;124m\"\u001b[39m\u001b[38;5;124mText\u001b[39m\u001b[38;5;124m\"\u001b[39m:current_time})\n\u001b[0;32m----> 8\u001b[0m \u001b[43mtime\u001b[49m\u001b[38;5;241;43m.\u001b[39;49m\u001b[43msleep\u001b[49m\u001b[43m(\u001b[49m\u001b[38;5;241;43m1\u001b[39;49m\u001b[43m)\u001b[49m\n",
      "\u001b[0;31mKeyboardInterrupt\u001b[0m: "
     ]
    }
   ],
   "source": [
    "from datetime import datetime\n",
    "\n",
    "# Create an infinite loop using while True to allow the program to run continuously.\n",
    "while True:\n",
    "    # Use datetime.now().strftime(\"%H:%M:%S\") to obtain the current time and format it as \"hour:minute:second\".\n",
    "    current_time = datetime.now().strftime(\"%H:%M:%S\")\n",
    "    base.send_command({\"T\":3,\"lineNum\":0,\"Text\":current_time})\n",
    "    time.sleep(1)"
   ]
  },
  {
   "cell_type": "markdown",
   "id": "50c3b57b",
   "metadata": {},
   "source": [
    "#### Return to Original Display Setting"
   ]
  },
  {
   "cell_type": "code",
   "execution_count": 20,
   "id": "3f6468ef",
   "metadata": {},
   "outputs": [],
   "source": [
    "base.send_command({\"T\":-3})"
   ]
  }
 ],
 "metadata": {
  "kernelspec": {
   "display_name": "Python 3",
   "language": "python",
   "name": "python3"
  },
  "language_info": {
   "codemirror_mode": {
    "name": "ipython",
    "version": 3
   },
   "file_extension": ".py",
   "mimetype": "text/x-python",
   "name": "python",
   "nbconvert_exporter": "python",
   "pygments_lexer": "ipython3",
   "version": "3.10.12"
  }
 },
 "nbformat": 4,
 "nbformat_minor": 5
}
